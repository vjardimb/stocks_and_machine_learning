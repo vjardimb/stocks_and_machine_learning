{
  "nbformat": 4,
  "nbformat_minor": 0,
  "metadata": {
    "colab": {
      "name": "stock_prices_predictions.ipynb",
      "provenance": []
    },
    "kernelspec": {
      "name": "python3",
      "display_name": "Python 3"
    },
    "language_info": {
      "name": "python"
    }
  },
  "cells": [
    {
      "cell_type": "code",
      "execution_count": null,
      "metadata": {
        "id": "fq-g-QwnsbUX",
        "colab": {
          "base_uri": "https://localhost:8080/"
        },
        "outputId": "6c3c5e5b-be84-401c-d7b4-e9eca8caac40"
      },
      "outputs": [
        {
          "output_type": "stream",
          "name": "stdout",
          "text": [
            "Looking in indexes: https://pypi.org/simple, https://us-python.pkg.dev/colab-wheels/public/simple/\n",
            "Requirement already satisfied: yfinance in /usr/local/lib/python3.7/dist-packages (0.1.74)\n",
            "Requirement already satisfied: multitasking>=0.0.7 in /usr/local/lib/python3.7/dist-packages (from yfinance) (0.0.11)\n",
            "Requirement already satisfied: pandas>=0.24.0 in /usr/local/lib/python3.7/dist-packages (from yfinance) (1.3.5)\n",
            "Requirement already satisfied: numpy>=1.15 in /usr/local/lib/python3.7/dist-packages (from yfinance) (1.21.6)\n",
            "Requirement already satisfied: lxml>=4.5.1 in /usr/local/lib/python3.7/dist-packages (from yfinance) (4.9.1)\n",
            "Requirement already satisfied: requests>=2.26 in /usr/local/lib/python3.7/dist-packages (from yfinance) (2.28.1)\n",
            "Requirement already satisfied: python-dateutil>=2.7.3 in /usr/local/lib/python3.7/dist-packages (from pandas>=0.24.0->yfinance) (2.8.2)\n",
            "Requirement already satisfied: pytz>=2017.3 in /usr/local/lib/python3.7/dist-packages (from pandas>=0.24.0->yfinance) (2022.1)\n",
            "Requirement already satisfied: six>=1.5 in /usr/local/lib/python3.7/dist-packages (from python-dateutil>=2.7.3->pandas>=0.24.0->yfinance) (1.15.0)\n",
            "Requirement already satisfied: certifi>=2017.4.17 in /usr/local/lib/python3.7/dist-packages (from requests>=2.26->yfinance) (2022.6.15)\n",
            "Requirement already satisfied: idna<4,>=2.5 in /usr/local/lib/python3.7/dist-packages (from requests>=2.26->yfinance) (2.10)\n",
            "Requirement already satisfied: charset-normalizer<3,>=2 in /usr/local/lib/python3.7/dist-packages (from requests>=2.26->yfinance) (2.1.0)\n",
            "Requirement already satisfied: urllib3<1.27,>=1.21.1 in /usr/local/lib/python3.7/dist-packages (from requests>=2.26->yfinance) (1.24.3)\n"
          ]
        }
      ],
      "source": [
        "# Raw Package\n",
        "import numpy as np\n",
        "import pandas as pd\n",
        "\n",
        "# Visualization Package\n",
        "import matplotlib.pyplot as plt\n",
        "\n",
        "# import preprocessing functions\n",
        "from sklearn.preprocessing import MinMaxScaler\n",
        "from sklearn.metrics import classification_report\n",
        "\n",
        "# import keras library\n",
        "from tensorflow import keras\n",
        "\n",
        "# import Sequential from the keras models module\n",
        "from keras.models import Sequential\n",
        "\n",
        "# import Dense, Dropout, Flatten, Conv2D, MaxPooling2D from the keras layers module\n",
        "from keras.layers import Dense, Dropout, LSTM\n",
        "\n",
        "#Data Source\n",
        "!pip install yfinance\n",
        "import yfinance as yf"
      ]
    },
    {
      "cell_type": "code",
      "source": [
        "#Interval required 5 minutes\n",
        "data = yf.download(tickers='aapl', period='10y', interval='1d')"
      ],
      "metadata": {
        "colab": {
          "base_uri": "https://localhost:8080/"
        },
        "id": "p8WF5flqtBvJ",
        "outputId": "7a24c63d-3443-4566-d0e4-34ec69343e30"
      },
      "execution_count": null,
      "outputs": [
        {
          "output_type": "stream",
          "name": "stdout",
          "text": [
            "\r[*********************100%***********************]  1 of 1 completed\n"
          ]
        }
      ]
    },
    {
      "cell_type": "code",
      "source": [
        "#Print data\n",
        "data.head()"
      ],
      "metadata": {
        "colab": {
          "base_uri": "https://localhost:8080/",
          "height": 237
        },
        "id": "uS1T1i3Two6i",
        "outputId": "531f8c0f-2a85-4874-ef25-4a0de70a3a69"
      },
      "execution_count": null,
      "outputs": [
        {
          "output_type": "execute_result",
          "data": {
            "text/plain": [
              "                 Open       High        Low      Close  Adj Close     Volume\n",
              "Date                                                                        \n",
              "2012-08-16  22.543215  22.741428  22.517857  22.726429  19.487864  254534000\n",
              "2012-08-17  22.857143  23.149643  22.814644  23.146786  19.848320  442761200\n",
              "2012-08-20  23.214643  23.755358  23.210714  23.755358  20.370165  613384800\n",
              "2012-08-21  23.957857  24.102858  23.226070  23.430714  20.091784  812719600\n",
              "2012-08-22  23.372143  23.892857  23.146786  23.888214  20.484089  565322800"
            ],
            "text/html": [
              "\n",
              "  <div id=\"df-d3aa2b55-4886-43e7-adbc-24a780c099f9\">\n",
              "    <div class=\"colab-df-container\">\n",
              "      <div>\n",
              "<style scoped>\n",
              "    .dataframe tbody tr th:only-of-type {\n",
              "        vertical-align: middle;\n",
              "    }\n",
              "\n",
              "    .dataframe tbody tr th {\n",
              "        vertical-align: top;\n",
              "    }\n",
              "\n",
              "    .dataframe thead th {\n",
              "        text-align: right;\n",
              "    }\n",
              "</style>\n",
              "<table border=\"1\" class=\"dataframe\">\n",
              "  <thead>\n",
              "    <tr style=\"text-align: right;\">\n",
              "      <th></th>\n",
              "      <th>Open</th>\n",
              "      <th>High</th>\n",
              "      <th>Low</th>\n",
              "      <th>Close</th>\n",
              "      <th>Adj Close</th>\n",
              "      <th>Volume</th>\n",
              "    </tr>\n",
              "    <tr>\n",
              "      <th>Date</th>\n",
              "      <th></th>\n",
              "      <th></th>\n",
              "      <th></th>\n",
              "      <th></th>\n",
              "      <th></th>\n",
              "      <th></th>\n",
              "    </tr>\n",
              "  </thead>\n",
              "  <tbody>\n",
              "    <tr>\n",
              "      <th>2012-08-16</th>\n",
              "      <td>22.543215</td>\n",
              "      <td>22.741428</td>\n",
              "      <td>22.517857</td>\n",
              "      <td>22.726429</td>\n",
              "      <td>19.487864</td>\n",
              "      <td>254534000</td>\n",
              "    </tr>\n",
              "    <tr>\n",
              "      <th>2012-08-17</th>\n",
              "      <td>22.857143</td>\n",
              "      <td>23.149643</td>\n",
              "      <td>22.814644</td>\n",
              "      <td>23.146786</td>\n",
              "      <td>19.848320</td>\n",
              "      <td>442761200</td>\n",
              "    </tr>\n",
              "    <tr>\n",
              "      <th>2012-08-20</th>\n",
              "      <td>23.214643</td>\n",
              "      <td>23.755358</td>\n",
              "      <td>23.210714</td>\n",
              "      <td>23.755358</td>\n",
              "      <td>20.370165</td>\n",
              "      <td>613384800</td>\n",
              "    </tr>\n",
              "    <tr>\n",
              "      <th>2012-08-21</th>\n",
              "      <td>23.957857</td>\n",
              "      <td>24.102858</td>\n",
              "      <td>23.226070</td>\n",
              "      <td>23.430714</td>\n",
              "      <td>20.091784</td>\n",
              "      <td>812719600</td>\n",
              "    </tr>\n",
              "    <tr>\n",
              "      <th>2012-08-22</th>\n",
              "      <td>23.372143</td>\n",
              "      <td>23.892857</td>\n",
              "      <td>23.146786</td>\n",
              "      <td>23.888214</td>\n",
              "      <td>20.484089</td>\n",
              "      <td>565322800</td>\n",
              "    </tr>\n",
              "  </tbody>\n",
              "</table>\n",
              "</div>\n",
              "      <button class=\"colab-df-convert\" onclick=\"convertToInteractive('df-d3aa2b55-4886-43e7-adbc-24a780c099f9')\"\n",
              "              title=\"Convert this dataframe to an interactive table.\"\n",
              "              style=\"display:none;\">\n",
              "        \n",
              "  <svg xmlns=\"http://www.w3.org/2000/svg\" height=\"24px\"viewBox=\"0 0 24 24\"\n",
              "       width=\"24px\">\n",
              "    <path d=\"M0 0h24v24H0V0z\" fill=\"none\"/>\n",
              "    <path d=\"M18.56 5.44l.94 2.06.94-2.06 2.06-.94-2.06-.94-.94-2.06-.94 2.06-2.06.94zm-11 1L8.5 8.5l.94-2.06 2.06-.94-2.06-.94L8.5 2.5l-.94 2.06-2.06.94zm10 10l.94 2.06.94-2.06 2.06-.94-2.06-.94-.94-2.06-.94 2.06-2.06.94z\"/><path d=\"M17.41 7.96l-1.37-1.37c-.4-.4-.92-.59-1.43-.59-.52 0-1.04.2-1.43.59L10.3 9.45l-7.72 7.72c-.78.78-.78 2.05 0 2.83L4 21.41c.39.39.9.59 1.41.59.51 0 1.02-.2 1.41-.59l7.78-7.78 2.81-2.81c.8-.78.8-2.07 0-2.86zM5.41 20L4 18.59l7.72-7.72 1.47 1.35L5.41 20z\"/>\n",
              "  </svg>\n",
              "      </button>\n",
              "      \n",
              "  <style>\n",
              "    .colab-df-container {\n",
              "      display:flex;\n",
              "      flex-wrap:wrap;\n",
              "      gap: 12px;\n",
              "    }\n",
              "\n",
              "    .colab-df-convert {\n",
              "      background-color: #E8F0FE;\n",
              "      border: none;\n",
              "      border-radius: 50%;\n",
              "      cursor: pointer;\n",
              "      display: none;\n",
              "      fill: #1967D2;\n",
              "      height: 32px;\n",
              "      padding: 0 0 0 0;\n",
              "      width: 32px;\n",
              "    }\n",
              "\n",
              "    .colab-df-convert:hover {\n",
              "      background-color: #E2EBFA;\n",
              "      box-shadow: 0px 1px 2px rgba(60, 64, 67, 0.3), 0px 1px 3px 1px rgba(60, 64, 67, 0.15);\n",
              "      fill: #174EA6;\n",
              "    }\n",
              "\n",
              "    [theme=dark] .colab-df-convert {\n",
              "      background-color: #3B4455;\n",
              "      fill: #D2E3FC;\n",
              "    }\n",
              "\n",
              "    [theme=dark] .colab-df-convert:hover {\n",
              "      background-color: #434B5C;\n",
              "      box-shadow: 0px 1px 3px 1px rgba(0, 0, 0, 0.15);\n",
              "      filter: drop-shadow(0px 1px 2px rgba(0, 0, 0, 0.3));\n",
              "      fill: #FFFFFF;\n",
              "    }\n",
              "  </style>\n",
              "\n",
              "      <script>\n",
              "        const buttonEl =\n",
              "          document.querySelector('#df-d3aa2b55-4886-43e7-adbc-24a780c099f9 button.colab-df-convert');\n",
              "        buttonEl.style.display =\n",
              "          google.colab.kernel.accessAllowed ? 'block' : 'none';\n",
              "\n",
              "        async function convertToInteractive(key) {\n",
              "          const element = document.querySelector('#df-d3aa2b55-4886-43e7-adbc-24a780c099f9');\n",
              "          const dataTable =\n",
              "            await google.colab.kernel.invokeFunction('convertToInteractive',\n",
              "                                                     [key], {});\n",
              "          if (!dataTable) return;\n",
              "\n",
              "          const docLinkHtml = 'Like what you see? Visit the ' +\n",
              "            '<a target=\"_blank\" href=https://colab.research.google.com/notebooks/data_table.ipynb>data table notebook</a>'\n",
              "            + ' to learn more about interactive tables.';\n",
              "          element.innerHTML = '';\n",
              "          dataTable['output_type'] = 'display_data';\n",
              "          await google.colab.output.renderOutput(dataTable, element);\n",
              "          const docLink = document.createElement('div');\n",
              "          docLink.innerHTML = docLinkHtml;\n",
              "          element.appendChild(docLink);\n",
              "        }\n",
              "      </script>\n",
              "    </div>\n",
              "  </div>\n",
              "  "
            ]
          },
          "metadata": {},
          "execution_count": 5
        }
      ]
    },
    {
      "cell_type": "code",
      "source": [
        "# check if there are missing values for each column\n",
        "data.isna().any()"
      ],
      "metadata": {
        "colab": {
          "base_uri": "https://localhost:8080/"
        },
        "id": "pT13dsVyv1Bc",
        "outputId": "efc82bff-9f61-4144-d32b-f2af38f51e3c"
      },
      "execution_count": null,
      "outputs": [
        {
          "output_type": "execute_result",
          "data": {
            "text/plain": [
              "Open         False\n",
              "High         False\n",
              "Low          False\n",
              "Close        False\n",
              "Adj Close    False\n",
              "Volume       False\n",
              "dtype: bool"
            ]
          },
          "metadata": {},
          "execution_count": 6
        }
      ]
    },
    {
      "cell_type": "code",
      "source": [
        "data[['Close']].plot()"
      ],
      "metadata": {
        "colab": {
          "base_uri": "https://localhost:8080/",
          "height": 287
        },
        "id": "SskDlgsZv70t",
        "outputId": "8eed9d48-d4c8-4a90-a315-599797d45b95"
      },
      "execution_count": null,
      "outputs": [
        {
          "output_type": "execute_result",
          "data": {
            "text/plain": [
              "<matplotlib.axes._subplots.AxesSubplot at 0x7fabf1883fd0>"
            ]
          },
          "metadata": {},
          "execution_count": 7
        },
        {
          "output_type": "display_data",
          "data": {
            "text/plain": [
              "<Figure size 432x288 with 1 Axes>"
            ],
            "image/png": "[encoded data removed]"
          },
          "metadata": {
            "needs_background": "light"
          }
        }
      ]
    },
    {
      "cell_type": "code",
      "source": [
        "data.info()"
      ],
      "metadata": {
        "colab": {
          "base_uri": "https://localhost:8080/"
        },
        "id": "ZoasjJCY3N8e",
        "outputId": "76aec740-5f84-45d8-f6ae-a606f83740f6"
      },
      "execution_count": null,
      "outputs": [
        {
          "output_type": "stream",
          "name": "stdout",
          "text": [
            "<class 'pandas.core.frame.DataFrame'>\n",
            "DatetimeIndex: 2515 entries, 2012-08-16 to 2022-08-15\n",
            "Data columns (total 6 columns):\n",
            " #   Column     Non-Null Count  Dtype  \n",
            "---  ------     --------------  -----  \n",
            " 0   Open       2515 non-null   float64\n",
            " 1   High       2515 non-null   float64\n",
            " 2   Low        2515 non-null   float64\n",
            " 3   Close      2515 non-null   float64\n",
            " 4   Adj Close  2515 non-null   float64\n",
            " 5   Volume     2515 non-null   int64  \n",
            "dtypes: float64(5), int64(1)\n",
            "memory usage: 137.5 KB\n"
          ]
        }
      ]
    },
    {
      "cell_type": "code",
      "source": [
        "# create a 7 and 80 moving average\n",
        "data['7ma'] = data.rolling(7).mean()['Close']\n",
        "data['60ma'] = data.rolling(60).mean()['Close']\n",
        "\n",
        "# create a target column (1 if next close is higher than current close, else 0)\n",
        "data['target'] = (data['Close'].shift(-1) > data['Close']).astype(int)\n",
        "\n",
        "# drop open, high and low columns\n",
        "data.drop(['Open', 'High', 'Low', 'Adj Close'], axis=1, inplace=True)\n",
        "\n",
        "data = data.dropna()\n",
        "\n",
        "data.head()"
      ],
      "metadata": {
        "colab": {
          "base_uri": "https://localhost:8080/",
          "height": 237
        },
        "id": "1NgYC1b04rdU",
        "outputId": "4ec8f38c-9c9b-4af4-b94f-55165b7008e3"
      },
      "execution_count": null,
      "outputs": [
        {
          "output_type": "execute_result",
          "data": {
            "text/plain": [
              "                Close      Volume        7ma       60ma  target\n",
              "Date                                                           \n",
              "2012-11-12  19.386786   515802000  20.050561  23.070649       1\n",
              "2012-11-13  19.389286   532949200  19.877602  23.015030       0\n",
              "2012-11-14  19.174286   477170400  19.634030  22.948821       0\n",
              "2012-11-15  18.772142   789910800  19.342041  22.865768       1\n",
              "2012-11-16  18.845715  1266893600  19.187347  22.789351       1"
            ],
            "text/html": [
              "\n",
              "  <div id=\"df-ead5aa1c-bd06-484b-9d18-1d5d461aef3c\">\n",
              "    <div class=\"colab-df-container\">\n",
              "      <div>\n",
              "<style scoped>\n",
              "    .dataframe tbody tr th:only-of-type {\n",
              "        vertical-align: middle;\n",
              "    }\n",
              "\n",
              "    .dataframe tbody tr th {\n",
              "        vertical-align: top;\n",
              "    }\n",
              "\n",
              "    .dataframe thead th {\n",
              "        text-align: right;\n",
              "    }\n",
              "</style>\n",
              "<table border=\"1\" class=\"dataframe\">\n",
              "  <thead>\n",
              "    <tr style=\"text-align: right;\">\n",
              "      <th></th>\n",
              "      <th>Close</th>\n",
              "      <th>Volume</th>\n",
              "      <th>7ma</th>\n",
              "      <th>60ma</th>\n",
              "      <th>target</th>\n",
              "    </tr>\n",
              "    <tr>\n",
              "      <th>Date</th>\n",
              "      <th></th>\n",
              "      <th></th>\n",
              "      <th></th>\n",
              "      <th></th>\n",
              "      <th></th>\n",
              "    </tr>\n",
              "  </thead>\n",
              "  <tbody>\n",
              "    <tr>\n",
              "      <th>2012-11-12</th>\n",
              "      <td>19.386786</td>\n",
              "      <td>515802000</td>\n",
              "      <td>20.050561</td>\n",
              "      <td>23.070649</td>\n",
              "      <td>1</td>\n",
              "    </tr>\n",
              "    <tr>\n",
              "      <th>2012-11-13</th>\n",
              "      <td>19.389286</td>\n",
              "      <td>532949200</td>\n",
              "      <td>19.877602</td>\n",
              "      <td>23.015030</td>\n",
              "      <td>0</td>\n",
              "    </tr>\n",
              "    <tr>\n",
              "      <th>2012-11-14</th>\n",
              "      <td>19.174286</td>\n",
              "      <td>477170400</td>\n",
              "      <td>19.634030</td>\n",
              "      <td>22.948821</td>\n",
              "      <td>0</td>\n",
              "    </tr>\n",
              "    <tr>\n",
              "      <th>2012-11-15</th>\n",
              "      <td>18.772142</td>\n",
              "      <td>789910800</td>\n",
              "      <td>19.342041</td>\n",
              "      <td>22.865768</td>\n",
              "      <td>1</td>\n",
              "    </tr>\n",
              "    <tr>\n",
              "      <th>2012-11-16</th>\n",
              "      <td>18.845715</td>\n",
              "      <td>1266893600</td>\n",
              "      <td>19.187347</td>\n",
              "      <td>22.789351</td>\n",
              "      <td>1</td>\n",
              "    </tr>\n",
              "  </tbody>\n",
              "</table>\n",
              "</div>\n",
              "      <button class=\"colab-df-convert\" onclick=\"convertToInteractive('df-ead5aa1c-bd06-484b-9d18-1d5d461aef3c')\"\n",
              "              title=\"Convert this dataframe to an interactive table.\"\n",
              "              style=\"display:none;\">\n",
              "        \n",
              "  <svg xmlns=\"http://www.w3.org/2000/svg\" height=\"24px\"viewBox=\"0 0 24 24\"\n",
              "       width=\"24px\">\n",
              "    <path d=\"M0 0h24v24H0V0z\" fill=\"none\"/>\n",
              "    <path d=\"M18.56 5.44l.94 2.06.94-2.06 2.06-.94-2.06-.94-.94-2.06-.94 2.06-2.06.94zm-11 1L8.5 8.5l.94-2.06 2.06-.94-2.06-.94L8.5 2.5l-.94 2.06-2.06.94zm10 10l.94 2.06.94-2.06 2.06-.94-2.06-.94-.94-2.06-.94 2.06-2.06.94z\"/><path d=\"M17.41 7.96l-1.37-1.37c-.4-.4-.92-.59-1.43-.59-.52 0-1.04.2-1.43.59L10.3 9.45l-7.72 7.72c-.78.78-.78 2.05 0 2.83L4 21.41c.39.39.9.59 1.41.59.51 0 1.02-.2 1.41-.59l7.78-7.78 2.81-2.81c.8-.78.8-2.07 0-2.86zM5.41 20L4 18.59l7.72-7.72 1.47 1.35L5.41 20z\"/>\n",
              "  </svg>\n",
              "      </button>\n",
              "      \n",
              "  <style>\n",
              "    .colab-df-container {\n",
              "      display:flex;\n",
              "      flex-wrap:wrap;\n",
              "      gap: 12px;\n",
              "    }\n",
              "\n",
              "    .colab-df-convert {\n",
              "      background-color: #E8F0FE;\n",
              "      border: none;\n",
              "      border-radius: 50%;\n",
              "      cursor: pointer;\n",
              "      display: none;\n",
              "      fill: #1967D2;\n",
              "      height: 32px;\n",
              "      padding: 0 0 0 0;\n",
              "      width: 32px;\n",
              "    }\n",
              "\n",
              "    .colab-df-convert:hover {\n",
              "      background-color: #E2EBFA;\n",
              "      box-shadow: 0px 1px 2px rgba(60, 64, 67, 0.3), 0px 1px 3px 1px rgba(60, 64, 67, 0.15);\n",
              "      fill: #174EA6;\n",
              "    }\n",
              "\n",
              "    [theme=dark] .colab-df-convert {\n",
              "      background-color: #3B4455;\n",
              "      fill: #D2E3FC;\n",
              "    }\n",
              "\n",
              "    [theme=dark] .colab-df-convert:hover {\n",
              "      background-color: #434B5C;\n",
              "      box-shadow: 0px 1px 3px 1px rgba(0, 0, 0, 0.15);\n",
              "      filter: drop-shadow(0px 1px 2px rgba(0, 0, 0, 0.3));\n",
              "      fill: #FFFFFF;\n",
              "    }\n",
              "  </style>\n",
              "\n",
              "      <script>\n",
              "        const buttonEl =\n",
              "          document.querySelector('#df-ead5aa1c-bd06-484b-9d18-1d5d461aef3c button.colab-df-convert');\n",
              "        buttonEl.style.display =\n",
              "          google.colab.kernel.accessAllowed ? 'block' : 'none';\n",
              "\n",
              "        async function convertToInteractive(key) {\n",
              "          const element = document.querySelector('#df-ead5aa1c-bd06-484b-9d18-1d5d461aef3c');\n",
              "          const dataTable =\n",
              "            await google.colab.kernel.invokeFunction('convertToInteractive',\n",
              "                                                     [key], {});\n",
              "          if (!dataTable) return;\n",
              "\n",
              "          const docLinkHtml = 'Like what you see? Visit the ' +\n",
              "            '<a target=\"_blank\" href=https://colab.research.google.com/notebooks/data_table.ipynb>data table notebook</a>'\n",
              "            + ' to learn more about interactive tables.';\n",
              "          element.innerHTML = '';\n",
              "          dataTable['output_type'] = 'display_data';\n",
              "          await google.colab.output.renderOutput(dataTable, element);\n",
              "          const docLink = document.createElement('div');\n",
              "          docLink.innerHTML = docLinkHtml;\n",
              "          element.appendChild(docLink);\n",
              "        }\n",
              "      </script>\n",
              "    </div>\n",
              "  </div>\n",
              "  "
            ]
          },
          "metadata": {},
          "execution_count": 9
        }
      ]
    },
    {
      "cell_type": "code",
      "source": [
        "# plot chart with the moving averages\n",
        "plt.figure(figsize=[16,6])\n",
        "plt.plot(data['Close'], label='Close')\n",
        "plt.plot(data['7ma'], label='7ma')\n",
        "plt.plot(data['60ma'], label='60ma')\n",
        "plt.legend()\n",
        "plt.title(\"apple's last year prices\")\n",
        "plt.xlabel('date')\n",
        "plt.ylabel('price')\n",
        "plt.show()"
      ],
      "metadata": {
        "colab": {
          "base_uri": "https://localhost:8080/",
          "height": 404
        },
        "id": "FHMyExMJ7MTo",
        "outputId": "6cda5aff-a621-44d2-af58-445ce4336b42"
      },
      "execution_count": null,
      "outputs": [
        {
          "output_type": "display_data",
          "data": {
            "text/plain": [
              "<Figure size 1152x432 with 1 Axes>"
            ],
            "image/png": "[encoded data removed]"
          },
          "metadata": {
            "needs_background": "light"
          }
        }
      ]
    },
    {
      "cell_type": "code",
      "source": [
        "# set features' range to [0,1]\n",
        "scaler = MinMaxScaler()\n",
        "data_scaled = scaler.fit_transform(data)"
      ],
      "metadata": {
        "id": "x8mXJjA89m9Z"
      },
      "execution_count": null,
      "outputs": []
    },
    {
      "cell_type": "code",
      "source": [
        "pd.DataFrame(data_scaled[:,:-1], columns=data.columns.to_list()[:-1]).plot(figsize=[16,6])"
      ],
      "metadata": {
        "colab": {
          "base_uri": "https://localhost:8080/",
          "height": 392
        },
        "id": "mviYHL5a-c6c",
        "outputId": "bc7cb36d-d086-4f30-cb7e-1db5857443f4"
      },
      "execution_count": null,
      "outputs": [
        {
          "output_type": "execute_result",
          "data": {
            "text/plain": [
              "<matplotlib.axes._subplots.AxesSubplot at 0x7fabf1235d10>"
            ]
          },
          "metadata": {},
          "execution_count": 12
        },
        {
          "output_type": "display_data",
          "data": {
            "text/plain": [
              "<Figure size 1152x432 with 1 Axes>"
            ],
            "image/png": "[encoded data removed]"
          },
          "metadata": {
            "needs_background": "light"
          }
        }
      ]
    },
    {
      "cell_type": "code",
      "source": [
        "X, y = [], []\n",
        "\n",
        "lookback = 60\n",
        "\n",
        "for i in range(lookback, len(data_scaled)):\n",
        "  X.append(data_scaled[i-lookback:i,:-1])\n",
        "  y.append(data_scaled[i,-1])\n",
        "\n",
        "X, y = np.array(X), np.array(y)"
      ],
      "metadata": {
        "id": "hOQbWlqTIfGl"
      },
      "execution_count": null,
      "outputs": []
    },
    {
      "cell_type": "code",
      "source": [
        "# separete data in training data and test data\n",
        "train_len = int(len(data)*0.8)\n",
        "\n",
        "X_train, y_train = X[0:train_len], y[0:train_len]\n",
        "X_test, y_test = X[train_len:], y[train_len:]"
      ],
      "metadata": {
        "id": "Qb_i2PHUFV4G"
      },
      "execution_count": null,
      "outputs": []
    },
    {
      "cell_type": "code",
      "source": [
        "X_test.shape, y_test.shape"
      ],
      "metadata": {
        "colab": {
          "base_uri": "https://localhost:8080/"
        },
        "id": "nj59TifmjgYc",
        "outputId": "52d28d26-9d83-4ada-ef79-b07ce7500d5c"
      },
      "execution_count": null,
      "outputs": [
        {
          "output_type": "execute_result",
          "data": {
            "text/plain": [
              "((432, 60, 4), (432,))"
            ]
          },
          "metadata": {},
          "execution_count": 15
        }
      ]
    },
    {
      "cell_type": "code",
      "source": [
        "model = Sequential([\n",
        "    LSTM(50, return_sequences=True, input_shape = (X_train.shape[1], X_train.shape[2])),\n",
        "    Dropout(0.2),\n",
        "    LSTM(50, return_sequences=True),\n",
        "    Dropout(0.2),\n",
        "    LSTM(50, return_sequences=False),\n",
        "    Dropout(0.2),\n",
        "    Dense(1, activation='sigmoid')\n",
        "])\n"
      ],
      "metadata": {
        "id": "rxac4zTkUOyT"
      },
      "execution_count": null,
      "outputs": []
    },
    {
      "cell_type": "code",
      "source": [
        "model.summary()"
      ],
      "metadata": {
        "colab": {
          "base_uri": "https://localhost:8080/"
        },
        "id": "KSLVrICSbsVU",
        "outputId": "d658d3cd-b50c-4384-d841-8b76320ececd"
      },
      "execution_count": null,
      "outputs": [
        {
          "output_type": "stream",
          "name": "stdout",
          "text": [
            "Model: \"sequential\"\n",
            "_________________________________________________________________\n",
            " Layer (type)                Output Shape              Param #   \n",
            "=================================================================\n",
            " lstm (LSTM)                 (None, 60, 50)            11000     \n",
            "                                                                 \n",
            " dropout (Dropout)           (None, 60, 50)            0         \n",
            "                                                                 \n",
            " lstm_1 (LSTM)               (None, 60, 50)            20200     \n",
            "                                                                 \n",
            " dropout_1 (Dropout)         (None, 60, 50)            0         \n",
            "                                                                 \n",
            " lstm_2 (LSTM)               (None, 50)                20200     \n",
            "                                                                 \n",
            " dropout_2 (Dropout)         (None, 50)                0         \n",
            "                                                                 \n",
            " dense (Dense)               (None, 1)                 51        \n",
            "                                                                 \n",
            "=================================================================\n",
            "Total params: 51,451\n",
            "Trainable params: 51,451\n",
            "Non-trainable params: 0\n",
            "_________________________________________________________________\n"
          ]
        }
      ]
    },
    {
      "cell_type": "code",
      "source": [
        "optimizer = keras.optimizers.Adam(learning_rate=0.001)\n",
        "\n",
        "#compile the RNN\n",
        "model.compile(optimizer = optimizer, loss='binary_crossentropy', metrics=['accuracy'])"
      ],
      "metadata": {
        "id": "AIWqEACpWlnY"
      },
      "execution_count": null,
      "outputs": []
    },
    {
      "cell_type": "code",
      "source": [
        "X_train.shape, y_train.shape"
      ],
      "metadata": {
        "colab": {
          "base_uri": "https://localhost:8080/"
        },
        "id": "jlKBSGDIcLzQ",
        "outputId": "0bcd7f8f-5b50-494c-d549-8a0d30af78f4"
      },
      "execution_count": null,
      "outputs": [
        {
          "output_type": "execute_result",
          "data": {
            "text/plain": [
              "((1964, 60, 4), (1964,))"
            ]
          },
          "metadata": {},
          "execution_count": 19
        }
      ]
    },
    {
      "cell_type": "code",
      "source": [
        "# fit the RNN to the training set\n",
        "model.fit(X_train, y_train, epochs=100, batch_size=32)"
      ],
      "metadata": {
        "colab": {
          "base_uri": "https://localhost:8080/"
        },
        "id": "Qo07cJJYZ4Ah",
        "outputId": "b7215786-251d-47ea-cabd-9b0e2eab1276"
      },
      "execution_count": null,
      "outputs": [
        {
          "output_type": "stream",
          "name": "stdout",
          "text": [
            "Epoch 1/100\n",
            "62/62 [==============================] - 22s 187ms/step - loss: 0.6939 - accuracy: 0.5097\n",
            "Epoch 2/100\n",
            "62/62 [==============================] - 11s 176ms/step - loss: 0.6916 - accuracy: 0.5285\n",
            "Epoch 3/100\n",
            "62/62 [==============================] - 6s 96ms/step - loss: 0.6925 - accuracy: 0.5285\n",
            "Epoch 4/100\n",
            "62/62 [==============================] - 6s 103ms/step - loss: 0.6925 - accuracy: 0.5295\n",
            "Epoch 5/100\n",
            "62/62 [==============================] - 6s 97ms/step - loss: 0.6921 - accuracy: 0.5280\n",
            "Epoch 6/100\n",
            "62/62 [==============================] - 7s 115ms/step - loss: 0.6919 - accuracy: 0.5285\n",
            "Epoch 7/100\n",
            "62/62 [==============================] - 11s 184ms/step - loss: 0.6919 - accuracy: 0.5285\n",
            "Epoch 8/100\n",
            "62/62 [==============================] - 12s 197ms/step - loss: 0.6923 - accuracy: 0.5285\n",
            "Epoch 9/100\n",
            "62/62 [==============================] - 6s 95ms/step - loss: 0.6918 - accuracy: 0.5285\n",
            "Epoch 10/100\n",
            "62/62 [==============================] - 6s 91ms/step - loss: 0.6918 - accuracy: 0.5249\n",
            "Epoch 11/100\n",
            "62/62 [==============================] - 6s 94ms/step - loss: 0.6921 - accuracy: 0.5285\n",
            "Epoch 12/100\n",
            "62/62 [==============================] - 6s 100ms/step - loss: 0.6922 - accuracy: 0.5285\n",
            "Epoch 13/100\n",
            "62/62 [==============================] - 6s 93ms/step - loss: 0.6919 - accuracy: 0.5290\n",
            "Epoch 14/100\n",
            "62/62 [==============================] - 6s 92ms/step - loss: 0.6915 - accuracy: 0.5285\n",
            "Epoch 15/100\n",
            "62/62 [==============================] - 6s 100ms/step - loss: 0.6916 - accuracy: 0.5290\n",
            "Epoch 16/100\n",
            "62/62 [==============================] - 6s 91ms/step - loss: 0.6921 - accuracy: 0.5285\n",
            "Epoch 17/100\n",
            "62/62 [==============================] - 7s 109ms/step - loss: 0.6917 - accuracy: 0.5285\n",
            "Epoch 18/100\n",
            "62/62 [==============================] - 6s 93ms/step - loss: 0.6920 - accuracy: 0.5290\n",
            "Epoch 19/100\n",
            "62/62 [==============================] - 6s 98ms/step - loss: 0.6919 - accuracy: 0.5295\n",
            "Epoch 20/100\n",
            "62/62 [==============================] - 6s 92ms/step - loss: 0.6915 - accuracy: 0.5290\n",
            "Epoch 21/100\n",
            "62/62 [==============================] - 6s 96ms/step - loss: 0.6924 - accuracy: 0.5290\n",
            "Epoch 22/100\n",
            "62/62 [==============================] - 6s 100ms/step - loss: 0.6915 - accuracy: 0.5285\n",
            "Epoch 23/100\n",
            "62/62 [==============================] - 7s 105ms/step - loss: 0.6921 - accuracy: 0.5285\n",
            "Epoch 24/100\n",
            "62/62 [==============================] - 6s 97ms/step - loss: 0.6914 - accuracy: 0.5285\n",
            "Epoch 25/100\n",
            "62/62 [==============================] - 6s 99ms/step - loss: 0.6918 - accuracy: 0.5290\n",
            "Epoch 26/100\n",
            "62/62 [==============================] - 6s 95ms/step - loss: 0.6919 - accuracy: 0.5285\n",
            "Epoch 27/100\n",
            "62/62 [==============================] - 6s 92ms/step - loss: 0.6917 - accuracy: 0.5249\n",
            "Epoch 28/100\n",
            "62/62 [==============================] - 6s 98ms/step - loss: 0.6914 - accuracy: 0.5265\n",
            "Epoch 29/100\n",
            "62/62 [==============================] - 6s 94ms/step - loss: 0.6918 - accuracy: 0.5285\n",
            "Epoch 30/100\n",
            "62/62 [==============================] - 6s 98ms/step - loss: 0.6918 - accuracy: 0.5260\n",
            "Epoch 31/100\n",
            "62/62 [==============================] - 6s 102ms/step - loss: 0.6915 - accuracy: 0.5244\n",
            "Epoch 32/100\n",
            "62/62 [==============================] - 6s 98ms/step - loss: 0.6910 - accuracy: 0.5356\n",
            "Epoch 33/100\n",
            "62/62 [==============================] - 6s 92ms/step - loss: 0.6921 - accuracy: 0.5255\n",
            "Epoch 34/100\n",
            "62/62 [==============================] - 6s 93ms/step - loss: 0.6915 - accuracy: 0.5305\n",
            "Epoch 35/100\n",
            "62/62 [==============================] - 7s 104ms/step - loss: 0.6912 - accuracy: 0.5265\n",
            "Epoch 36/100\n",
            "62/62 [==============================] - 6s 104ms/step - loss: 0.6914 - accuracy: 0.5219\n",
            "Epoch 37/100\n",
            "62/62 [==============================] - 6s 93ms/step - loss: 0.6916 - accuracy: 0.5255\n",
            "Epoch 38/100\n",
            "62/62 [==============================] - 6s 98ms/step - loss: 0.6906 - accuracy: 0.5311\n",
            "Epoch 39/100\n",
            "62/62 [==============================] - 7s 105ms/step - loss: 0.6923 - accuracy: 0.5168\n",
            "Epoch 40/100\n",
            "62/62 [==============================] - 6s 93ms/step - loss: 0.6916 - accuracy: 0.5249\n",
            "Epoch 41/100\n",
            "62/62 [==============================] - 6s 100ms/step - loss: 0.6907 - accuracy: 0.5300\n",
            "Epoch 42/100\n",
            "62/62 [==============================] - 6s 97ms/step - loss: 0.6918 - accuracy: 0.5295\n",
            "Epoch 43/100\n",
            "62/62 [==============================] - 6s 100ms/step - loss: 0.6918 - accuracy: 0.5285\n",
            "Epoch 44/100\n",
            "62/62 [==============================] - 6s 89ms/step - loss: 0.6911 - accuracy: 0.5290\n",
            "Epoch 45/100\n",
            "62/62 [==============================] - 6s 92ms/step - loss: 0.6907 - accuracy: 0.5260\n",
            "Epoch 46/100\n",
            "62/62 [==============================] - 6s 98ms/step - loss: 0.6909 - accuracy: 0.5321\n",
            "Epoch 47/100\n",
            "62/62 [==============================] - 6s 100ms/step - loss: 0.6909 - accuracy: 0.5234\n",
            "Epoch 48/100\n",
            "62/62 [==============================] - 6s 103ms/step - loss: 0.6907 - accuracy: 0.5234\n",
            "Epoch 49/100\n",
            "62/62 [==============================] - 7s 112ms/step - loss: 0.6902 - accuracy: 0.5321\n",
            "Epoch 50/100\n",
            "62/62 [==============================] - 6s 100ms/step - loss: 0.6906 - accuracy: 0.5270\n",
            "Epoch 51/100\n",
            "62/62 [==============================] - 6s 100ms/step - loss: 0.6905 - accuracy: 0.5193\n",
            "Epoch 52/100\n",
            "62/62 [==============================] - 6s 93ms/step - loss: 0.6891 - accuracy: 0.5356\n",
            "Epoch 53/100\n",
            "62/62 [==============================] - 6s 103ms/step - loss: 0.6888 - accuracy: 0.5321\n",
            "Epoch 54/100\n",
            "62/62 [==============================] - 7s 116ms/step - loss: 0.6888 - accuracy: 0.5311\n",
            "Epoch 55/100\n",
            "62/62 [==============================] - 6s 100ms/step - loss: 0.6899 - accuracy: 0.5260\n",
            "Epoch 56/100\n",
            "62/62 [==============================] - 6s 101ms/step - loss: 0.6893 - accuracy: 0.5326\n",
            "Epoch 57/100\n",
            "62/62 [==============================] - 6s 99ms/step - loss: 0.6893 - accuracy: 0.5244\n",
            "Epoch 58/100\n",
            "62/62 [==============================] - 6s 101ms/step - loss: 0.6891 - accuracy: 0.5270\n",
            "Epoch 59/100\n",
            "62/62 [==============================] - 6s 103ms/step - loss: 0.6902 - accuracy: 0.5280\n",
            "Epoch 60/100\n",
            "62/62 [==============================] - 6s 99ms/step - loss: 0.6888 - accuracy: 0.5367\n",
            "Epoch 61/100\n",
            "62/62 [==============================] - 6s 101ms/step - loss: 0.6886 - accuracy: 0.5412\n",
            "Epoch 62/100\n",
            "62/62 [==============================] - 6s 90ms/step - loss: 0.6893 - accuracy: 0.5336\n",
            "Epoch 63/100\n",
            "62/62 [==============================] - 6s 94ms/step - loss: 0.6883 - accuracy: 0.5397\n",
            "Epoch 64/100\n",
            "62/62 [==============================] - 6s 100ms/step - loss: 0.6880 - accuracy: 0.5331\n",
            "Epoch 65/100\n",
            "62/62 [==============================] - 6s 100ms/step - loss: 0.6887 - accuracy: 0.5326\n",
            "Epoch 66/100\n",
            "62/62 [==============================] - 6s 104ms/step - loss: 0.6876 - accuracy: 0.5402\n",
            "Epoch 67/100\n",
            "62/62 [==============================] - 6s 98ms/step - loss: 0.6884 - accuracy: 0.5392\n",
            "Epoch 68/100\n",
            "62/62 [==============================] - 6s 93ms/step - loss: 0.6884 - accuracy: 0.5372\n",
            "Epoch 69/100\n",
            "62/62 [==============================] - 6s 95ms/step - loss: 0.6880 - accuracy: 0.5397\n",
            "Epoch 70/100\n",
            "62/62 [==============================] - 6s 103ms/step - loss: 0.6898 - accuracy: 0.5382\n",
            "Epoch 71/100\n",
            "62/62 [==============================] - 6s 90ms/step - loss: 0.6878 - accuracy: 0.5514\n",
            "Epoch 72/100\n",
            "62/62 [==============================] - 6s 100ms/step - loss: 0.6882 - accuracy: 0.5326\n",
            "Epoch 73/100\n",
            "62/62 [==============================] - 6s 94ms/step - loss: 0.6870 - accuracy: 0.5392\n",
            "Epoch 74/100\n",
            "62/62 [==============================] - 6s 100ms/step - loss: 0.6892 - accuracy: 0.5321\n",
            "Epoch 75/100\n",
            "62/62 [==============================] - 6s 91ms/step - loss: 0.6882 - accuracy: 0.5372\n",
            "Epoch 76/100\n",
            "62/62 [==============================] - 6s 91ms/step - loss: 0.6873 - accuracy: 0.5397\n",
            "Epoch 77/100\n",
            "62/62 [==============================] - 6s 97ms/step - loss: 0.6866 - accuracy: 0.5433\n",
            "Epoch 78/100\n",
            "62/62 [==============================] - 6s 94ms/step - loss: 0.6851 - accuracy: 0.5509\n",
            "Epoch 79/100\n",
            "62/62 [==============================] - 6s 102ms/step - loss: 0.6873 - accuracy: 0.5458\n",
            "Epoch 80/100\n",
            "62/62 [==============================] - 6s 96ms/step - loss: 0.6879 - accuracy: 0.5402\n",
            "Epoch 81/100\n",
            "62/62 [==============================] - 6s 95ms/step - loss: 0.6861 - accuracy: 0.5453\n",
            "Epoch 82/100\n",
            "62/62 [==============================] - 6s 96ms/step - loss: 0.6856 - accuracy: 0.5362\n",
            "Epoch 83/100\n",
            "62/62 [==============================] - 6s 93ms/step - loss: 0.6856 - accuracy: 0.5428\n",
            "Epoch 84/100\n",
            "62/62 [==============================] - 6s 103ms/step - loss: 0.6862 - accuracy: 0.5423\n",
            "Epoch 85/100\n",
            "62/62 [==============================] - 7s 109ms/step - loss: 0.6832 - accuracy: 0.5463\n",
            "Epoch 86/100\n",
            "62/62 [==============================] - 7s 111ms/step - loss: 0.6903 - accuracy: 0.5423\n",
            "Epoch 87/100\n",
            "62/62 [==============================] - 6s 100ms/step - loss: 0.6862 - accuracy: 0.5499\n",
            "Epoch 88/100\n",
            "62/62 [==============================] - 6s 100ms/step - loss: 0.6847 - accuracy: 0.5448\n",
            "Epoch 89/100\n",
            "62/62 [==============================] - 6s 95ms/step - loss: 0.6860 - accuracy: 0.5428\n",
            "Epoch 90/100\n",
            "62/62 [==============================] - 6s 97ms/step - loss: 0.6834 - accuracy: 0.5428\n",
            "Epoch 91/100\n",
            "62/62 [==============================] - 6s 100ms/step - loss: 0.6828 - accuracy: 0.5509\n",
            "Epoch 92/100\n",
            "62/62 [==============================] - 6s 99ms/step - loss: 0.6850 - accuracy: 0.5433\n",
            "Epoch 93/100\n",
            "62/62 [==============================] - 6s 99ms/step - loss: 0.6870 - accuracy: 0.5433\n",
            "Epoch 94/100\n",
            "62/62 [==============================] - 6s 98ms/step - loss: 0.6813 - accuracy: 0.5530\n",
            "Epoch 95/100\n",
            "62/62 [==============================] - 6s 100ms/step - loss: 0.6832 - accuracy: 0.5565\n",
            "Epoch 96/100\n",
            "62/62 [==============================] - 6s 98ms/step - loss: 0.6817 - accuracy: 0.5448\n",
            "Epoch 97/100\n",
            "62/62 [==============================] - 6s 100ms/step - loss: 0.6818 - accuracy: 0.5565\n",
            "Epoch 98/100\n",
            "62/62 [==============================] - 6s 99ms/step - loss: 0.6837 - accuracy: 0.5575\n",
            "Epoch 99/100\n",
            "62/62 [==============================] - 6s 100ms/step - loss: 0.6814 - accuracy: 0.5555\n",
            "Epoch 100/100\n",
            "62/62 [==============================] - 6s 91ms/step - loss: 0.6819 - accuracy: 0.5540\n"
          ]
        },
        {
          "output_type": "execute_result",
          "data": {
            "text/plain": [
              "<keras.callbacks.History at 0x7fabec27ca50>"
            ]
          },
          "metadata": {},
          "execution_count": 20
        }
      ]
    },
    {
      "cell_type": "code",
      "source": [
        "test_sample = X_train[:1]\n",
        "\n",
        "def get_precision(model, X_test, y_test, threshold):\n",
        "  '''\n",
        "  Calculate precision: Number of true positives divided by all positive predicitions\n",
        "  '''\n",
        "  \n",
        "  predictions = []\n",
        "\n",
        "  for i in X_test:\n",
        "    i = np.reshape(i, (1,i.shape[0], i.shape[1]))\n",
        "    predicted = model.predict(i)\n",
        "    predictions.append(int(predicted > threshold))\n",
        "  results = pd.DataFrame({\"predictions\": predictions, \"targets\": y_test})\n",
        "  results = results[results['predictions']==1]\n",
        "  \n",
        "  return len(results[results['predictions']==results['targets']])/len(results)\n"
      ],
      "metadata": {
        "id": "0A5Sp2ilgINk"
      },
      "execution_count": null,
      "outputs": []
    },
    {
      "cell_type": "code",
      "source": [
        "precision = get_precision(model, X_test, y_test, 0.55)\n",
        "print(precision)"
      ],
      "metadata": {
        "id": "RWWB1lBKuayV",
        "colab": {
          "base_uri": "https://localhost:8080/"
        },
        "outputId": "be39d9fa-e67d-4b96-e4e1-1b96b2af74bb"
      },
      "execution_count": null,
      "outputs": [
        {
          "output_type": "stream",
          "name": "stdout",
          "text": [
            "0.5185185185185185\n"
          ]
        }
      ]
    }
  ]
}